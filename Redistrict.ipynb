{
 "cells": [
  {
   "cell_type": "code",
   "execution_count": 1,
   "id": "0daf315a-5d00-4110-9356-e9eb3f11f42f",
   "metadata": {},
   "outputs": [
    {
     "name": "stdout",
     "output_type": "stream",
     "text": [
      "Requirement already satisfied: pulp in c:\\users\\evehyh\\appdata\\local\\anaconda3\\lib\\site-packages (2.9.0)\n",
      "Note: you may need to restart the kernel to use updated packages.\n"
     ]
    }
   ],
   "source": [
    "pip install pulp"
   ]
  },
  {
   "cell_type": "code",
   "execution_count": 14,
   "id": "1df66887-c9b9-4ad3-a0c0-a0e12fed520a",
   "metadata": {},
   "outputs": [
    {
     "name": "stdout",
     "output_type": "stream",
     "text": [
      "No optimal redistricting found. Status: Infeasible\n"
     ]
    },
    {
     "name": "stderr",
     "output_type": "stream",
     "text": [
      "C:\\Users\\evehyh\\AppData\\Local\\anaconda3\\Lib\\site-packages\\pulp\\pulp.py:1298: UserWarning: Spaces are not permitted in the name. Converted to '_'\n",
      "  warnings.warn(\"Spaces are not permitted in the name. Converted to '_'\")\n"
     ]
    }
   ],
   "source": [
    "import pandas as pd\n",
    "import pulp\n",
    "import numpy as np\n",
    "import requests\n",
    "from io import StringIO\n",
    "\n",
    "def optimal_redistricting_no_shapefile(county_data, adjacency_matrix, ideal_population, pop_deviation_tolerance=0.10): # Added tolerance\n",
    "    \"\"\"Solves redistricting, county-based, no shapefile, with flexible population deviation.\"\"\"\n",
    "\n",
    "    num_counties = len(county_data)\n",
    "    num_districts = 10  # Fixed number of districts\n",
    "\n",
    "    prob = pulp.LpProblem(\"Redistricting Problem\", pulp.LpMinimize)\n",
    "    x = pulp.LpVariable.dicts(\"County_District\", (range(num_counties), range(num_districts)), cat='Binary')\n",
    "\n",
    "    # Objective function (minimize population deviation - now weighted)\n",
    "    prob += pulp.lpSum([abs(county_data['pop2024'][i] - ideal_population) * x[i][j] for i in range(num_counties) for j in range(num_districts)])\n",
    "\n",
    "    # Constraints:\n",
    "\n",
    "    # 1. Each county must be assigned to exactly one district\n",
    "    for i in range(num_counties):\n",
    "        prob += pulp.lpSum([x[i][j] for j in range(num_districts)]) == 1\n",
    "\n",
    "    # 2. Relaxed population balance (using tolerance)\n",
    "    for j in range(num_districts):\n",
    "        lower_bound = ideal_population * (1 - pop_deviation_tolerance)\n",
    "        upper_bound = ideal_population * (1 + pop_deviation_tolerance)\n",
    "        prob += pulp.lpSum([county_data['pop2024'][i] * x[i][j] for i in range(num_counties)]) >= lower_bound\n",
    "        prob += pulp.lpSum([county_data['pop2024'][i] * x[i][j] for i in range(num_counties)]) <= upper_bound\n",
    "\n",
    "    # 3. Contiguity (using adjacency matrix)\n",
    "    for j in range(num_districts):\n",
    "        for i in range(num_counties):\n",
    "            for k in range(num_counties):\n",
    "                if adjacency_matrix[i, k] == 1 and i != k:\n",
    "                    prob += x[i][j] <= pulp.lpSum([x[l][j] for l in range(num_counties) if adjacency_matrix[k, l] == 1])\n",
    "\n",
    "    prob.solve()\n",
    "\n",
    "    if prob.status == pulp.LpStatusOptimal:\n",
    "        print(\"Optimal redistricting found.\")\n",
    "        new_county_data = county_data.copy()\n",
    "        new_county_data['district'] = 0\n",
    "\n",
    "        for i in range(num_counties):\n",
    "            for j in range(num_districts):\n",
    "                if x[i][j].varValue == 1:\n",
    "                    new_county_data.loc[i, 'district'] = j + 1\n",
    "\n",
    "        return new_county_data, prob.objective.value()\n",
    "\n",
    "    else:\n",
    "        print(\"No optimal redistricting found. Status:\", pulp.LpStatus[prob.status])\n",
    "        return None, None\n",
    "\n",
    "# 1. Load county data (including population) from Excel.\n",
    "try:\n",
    "    county_data = pd.read_excel(\"C:/Users/evehyh/Downloads/Washington County Data.xlsx\", sheet_name=\"counties-table\")  # Replace with your Excel file path\n",
    "except FileNotFoundError:\n",
    "    print(\"Population data file not found. Please provide the correct path.\")\n",
    "    exit()\n",
    "\n",
    "# 2. Load county adjacency data from the URL.\n",
    "url = \"https://www2.census.gov/geo/docs/reference/county_adjacency.txt\"\n",
    "response = requests.get(url)\n",
    "response.raise_for_status()\n",
    "\n",
    "county_adjacency_data = pd.read_csv(StringIO(response.text), sep=\"\\t\", header=None)\n",
    "county_adjacency_data.columns = ['County1_Name', 'FIPS1', 'County2_Name', 'FIPS2']\n",
    "\n",
    "# 3. Create adjacency matrix (using FIPS codes from the Excel file).\n",
    "county_fips_list = sorted(county_data['fips'].tolist())  # Use 'fips' column from Excel\n",
    "num_counties = len(county_fips_list)\n",
    "adjacency_matrix = np.zeros((num_counties, num_counties), dtype=int)\n",
    "\n",
    "for i, county_fips_i in enumerate(county_fips_list):\n",
    "    for j, county_fips_j in enumerate(county_fips_list):\n",
    "        if i != j:\n",
    "            is_adjacent = county_adjacency_data[\n",
    "                ((county_adjacency_data['FIPS1'] == county_fips_i) & (county_adjacency_data['FIPS2'] == county_fips_j)) |\n",
    "                ((county_adjacency_data['FIPS1'] == county_fips_j) & (county_adjacency_data['FIPS2'] == county_fips_i))\n",
    "            ].any().any()\n",
    "\n",
    "            if is_adjacent:\n",
    "                adjacency_matrix[i, j] = 1\n",
    "\n",
    "# 4. Set ideal population and number of districts (dynamically).\n",
    "state_population = county_data['pop2024'].sum()\n",
    "# If you want a fixed number of districts:\n",
    "#num_districts = 10  # Or whatever number you want.\n",
    "# OR, to calculate the number of districts based on population and a desired district size:\n",
    "desired_district_population = 750000 # Example: 750,000 people per district\n",
    "num_districts = int(np.ceil(state_population / desired_district_population)) # Round up to ensure all population is included\n",
    "\n",
    "ideal_population = state_population / num_districts\n",
    "\n",
    "# Add a DISTRICT column if it doesn't exist. Initialize to 0.\n",
    "if 'DISTRICT' not in county_data.columns:\n",
    "    county_data['DISTRICT'] = 1\n",
    "\n",
    "# 5. Run redistricting\n",
    "new_county_data, objective_value = optimal_redistricting_no_shapefile(county_data, adjacency_matrix, ideal_population, pop_deviation_tolerance=0.10) # 10% tolerance\n",
    "\n",
    "if new_county_data is not None:\n",
    "    print(new_county_data)\n",
    "    print(\"Objective Function Value:\", objective_value)\n",
    "    new_county_data.to_csv(\"redistricted_counties.csv\", index=False)"
   ]
  },
  {
   "cell_type": "code",
   "execution_count": null,
   "id": "5e7e9d8d-d82d-406a-99d2-715f3ea46d7c",
   "metadata": {},
   "outputs": [],
   "source": []
  }
 ],
 "metadata": {
  "kernelspec": {
   "display_name": "Python 3 (ipykernel)",
   "language": "python",
   "name": "python3"
  },
  "language_info": {
   "codemirror_mode": {
    "name": "ipython",
    "version": 3
   },
   "file_extension": ".py",
   "mimetype": "text/x-python",
   "name": "python",
   "nbconvert_exporter": "python",
   "pygments_lexer": "ipython3",
   "version": "3.12.7"
  }
 },
 "nbformat": 4,
 "nbformat_minor": 5
}
